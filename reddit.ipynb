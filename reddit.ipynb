{
 "cells": [
  {
   "cell_type": "code",
   "execution_count": null,
   "id": "b2114020-3e6b-4878-ab35-7875f08a22b8",
   "metadata": {},
   "outputs": [],
   "source": [
    "URL = \"https://www.reddit.com/r/IllegallySmolCats\""
   ]
  },
  {
   "cell_type": "markdown",
   "id": "6740998e-be32-4243-bd94-a757b6cab7bb",
   "metadata": {},
   "source": [
    "https://requests.readthedocs.io/en/latest/\n",
    "\n",
    "https://www.reddit.com/r/IllegallySmolCats/search/\n",
    "\n",
    "https://www.reddit.com/wiki/search/\n",
    "\n",
    "https://www.reddit.com/dev/api\n",
    "\n",
    "https://www.reddit.com/dev/api/#GET_top\n",
    "\n"
   ]
  },
  {
   "cell_type": "code",
   "execution_count": null,
   "id": "f72381ea-b8c8-45c7-a575-1f924ba4295c",
   "metadata": {
    "tags": []
   },
   "outputs": [],
   "source": [
    "from pathlib import Path\n",
    "import requests\n",
    "import shutil\n"
   ]
  },
  {
   "cell_type": "markdown",
   "id": "101073e6-ec21-486d-b8d7-dffe969ef840",
   "metadata": {},
   "source": [
    "https://developer.mozilla.org/en-US/docs/Web/HTTP/Headers/User-Agent"
   ]
  },
  {
   "cell_type": "code",
   "execution_count": null,
   "id": "5103dd00-a843-48a3-b02b-88f22b8c3426",
   "metadata": {
    "tags": []
   },
   "outputs": [],
   "source": [
    "from platform import platform, python_version\n",
    "\n",
    "user_agent = f\"MyProject/0.1.0 (requests {requests.__version__}; Python {python_version()}; {platform()})\"\n",
    "\n",
    "print(user_agent)"
   ]
  },
  {
   "cell_type": "code",
   "execution_count": null,
   "id": "04152e0f-af81-4de6-8086-ad7635e19242",
   "metadata": {
    "tags": []
   },
   "outputs": [],
   "source": [
    "headers = {\n",
    "    \"User-Agent\": user_agent,\n",
    "}\n",
    "\n",
    "# See listings in left panel\n",
    "listing = \"top\"\n",
    "\n",
    "params = {\n",
    "    # \"t\": \"all\",\n",
    "    \"limit\": \"25\",  # Capped at 100\n",
    "}\n",
    "\n",
    "response = requests.get(f\"{URL}/{listing}.json\", params=params, headers=headers)"
   ]
  },
  {
   "cell_type": "code",
   "execution_count": null,
   "id": "452c377b-6ed0-47ef-b1bc-2ca0b540eb4b",
   "metadata": {
    "tags": []
   },
   "outputs": [],
   "source": [
    "import json\n",
    "\n",
    "content = json.loads(response.content)"
   ]
  },
  {
   "cell_type": "code",
   "execution_count": null,
   "id": "973db5db-7054-4a59-89b7-b94c089e5317",
   "metadata": {},
   "outputs": [],
   "source": [
    "posts = content['data']['children']\n",
    "\n",
    "assert len(posts) == content['data']['dist']"
   ]
  },
  {
   "cell_type": "code",
   "execution_count": null,
   "id": "453b9ac1-1eb0-4dd1-bfd9-eca1b5a6342a",
   "metadata": {
    "tags": []
   },
   "outputs": [],
   "source": [
    "for post in posts:\n",
    "    print(post['data']['title'])"
   ]
  },
  {
   "cell_type": "code",
   "execution_count": null,
   "id": "375c106e-77a6-49c4-9f42-c542059051d0",
   "metadata": {
    "tags": []
   },
   "outputs": [],
   "source": [
    "from html import unescape"
   ]
  },
  {
   "cell_type": "code",
   "execution_count": null,
   "id": "2681998a-5044-4f29-b95d-5745b35e4507",
   "metadata": {
    "tags": []
   },
   "outputs": [],
   "source": [
    "def get_first_gallery_item_id(post):\n",
    "    return post['data']['gallery_data']['items'][0]['media_id']"
   ]
  },
  {
   "cell_type": "code",
   "execution_count": null,
   "id": "203401a7-5626-451e-becb-31574d022a14",
   "metadata": {
    "tags": []
   },
   "outputs": [],
   "source": [
    "def get_post_image_url(post):\n",
    "    \n",
    "    data = post['data']\n",
    "    hint = data.get('post_hint')\n",
    "    \n",
    "    # Single image\n",
    "    if hint == 'image':\n",
    "        return data['url_overridden_by_dest']\n",
    "        \n",
    "    # Multiple images\n",
    "    if gallery := data.get('gallery_data'):\n",
    "        key = gallery['items'][0]['media_id']\n",
    "        \n",
    "        return data['media_metadata'][key]['p'][-1]['u']\n",
    "    \n",
    "    # Video\n",
    "    if hint == 'hosted:video':\n",
    "        return data['preview']['images'][0]['source']['url']\n",
    "\n",
    "    # Cross-post\n",
    "    return data['thumbnail']\n",
    "    \n",
    "\n",
    "    # Something else?\n",
    "    raise RuntimeError(f\"Unsupported post type for {data.get('url')}\")\n",
    "        "
   ]
  },
  {
   "cell_type": "code",
   "execution_count": null,
   "id": "cb394647-b1de-4f94-9f54-01e72117f61c",
   "metadata": {
    "tags": []
   },
   "outputs": [],
   "source": [
    "get_post_image_url(posts[0])"
   ]
  },
  {
   "cell_type": "code",
   "execution_count": null,
   "id": "396fa061-5043-40d3-a61a-c5074aa0c203",
   "metadata": {
    "tags": []
   },
   "outputs": [],
   "source": [
    "posts[0]"
   ]
  },
  {
   "cell_type": "code",
   "execution_count": null,
   "id": "127b8579-99e5-4412-81da-dd4630a094cd",
   "metadata": {
    "tags": []
   },
   "outputs": [],
   "source": [
    "# HTML rendering is completely optional\n",
    "from IPython.display import display_html\n",
    "\n",
    "\n",
    "\n",
    "styling = \"\"\"\n",
    "<style>\n",
    ".container {\n",
    "    display: grid;\n",
    "    grid-template-columns: repeat(4, 1fr);\n",
    "    gap: 40px 20px;\n",
    "}\n",
    ".data {\n",
    "    grid-column: 1;\n",
    "    display: flex;\n",
    "    flex-direction: column;\n",
    "    align-items: center;\n",
    "    row-gap: 10px;\n",
    "}\n",
    "img {\n",
    "    grid-column: 2/5;\n",
    "    max-height: 400px;\n",
    "    width: auto;\n",
    "}\n",
    "</style>\n",
    "\"\"\"\n",
    "\n",
    "\n",
    "def make_html_for_post(post):\n",
    "    data = post['data']\n",
    "    \n",
    "    return '''\n",
    "    <div class=\"data\">\n",
    "        <div><b>{score}</b> - {link_flair_text}</div>\n",
    "        <div>u/{author}</div>\n",
    "        <div>{title}</div>\n",
    "    </div>\n",
    "    <img src={img_src} />\n",
    "    '''.format(**data, img_src = get_post_image_url(post))\n",
    "    \n",
    "    \n",
    "\n",
    "rows = [make_html_for_post(post) for post in posts]\n",
    "\n",
    "\n",
    "html = styling + '''<div class=\"container\">''' + \"\".join(rows) + \"</div>\"\n",
    "\n",
    "display_html(html, raw=True)"
   ]
  },
  {
   "cell_type": "code",
   "execution_count": null,
   "id": "4f4d7c6e-ed39-45c8-a6e5-0276b2cf3d7a",
   "metadata": {},
   "outputs": [],
   "source": []
  }
 ],
 "metadata": {
  "kernelspec": {
   "display_name": "Python 3 (ipykernel)",
   "language": "python",
   "name": "python3"
  },
  "language_info": {
   "codemirror_mode": {
    "name": "ipython",
    "version": 3
   },
   "file_extension": ".py",
   "mimetype": "text/x-python",
   "name": "python",
   "nbconvert_exporter": "python",
   "pygments_lexer": "ipython3",
   "version": "3.9.7"
  }
 },
 "nbformat": 4,
 "nbformat_minor": 5
}
